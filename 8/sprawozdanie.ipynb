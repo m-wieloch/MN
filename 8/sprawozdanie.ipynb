{
 "cells": [
  {
   "cell_type": "markdown",
   "metadata": {},
   "source": [
    "# <center>Rozwiązywanie układów równań</center>\n",
    "# <center>Metody iteracyjne</center>"
   ]
  },
  {
   "cell_type": "markdown",
   "metadata": {},
   "source": [
    "Instrukcja:\n",
    "Na zajęciach należy wykonać poniższe zadania, a następnie sporządzić sprawozdanie zawierające odpowiedzi (w postaci kodu) z komentarzami w środowisku Jupyter Notebook i umieścić je na platformie e-learningowej.   "
   ]
  },
  {
   "cell_type": "code",
   "execution_count": 19,
   "metadata": {
    "pycharm": {
     "is_executing": false
    }
   },
   "outputs": [
    {
     "name": "stdout",
     "text": [
      "The memory_profiler extension is already loaded. To reload it, use:\n",
      "  %reload_ext memory_profiler\n"
     ],
     "output_type": "stream"
    }
   ],
   "source": [
    "import main\n",
    "import scipy as sp\n",
    "import numpy as np\n",
    "import scipy.sparse.linalg as sp_linalg\n",
    "import numpy.linalg as np_linalg\n",
    "import matplotlib\n",
    "import matplotlib.pyplot as plt\n",
    "\n",
    "%load_ext memory_profiler"
   ]
  },
  {
   "cell_type": "markdown",
   "metadata": {},
   "source": [
    "**Cel zajęć:**  \n",
    "Celem zajęć jest zapoznanie się z iteracyjnymi metodami rozwiązywania układów równań liniowych w postaci macierzowej. Metody iteracyjne, w przeciwieństwie do analitycznych, nie zwracają dokładnego rozwiązania, a jedynie jego przybliżenie. Przy spełnionych kryteriach, przybliżenia obliczane w kolejnych iteracjach są zbieżne do dokładnego rozwiązania. Metody iteracyjne znajdują swoje zastosowanie szczególnie przy dużych układach równań postaci: \n",
    "   \n",
    "$\n",
    "\\mathbf{Ax}=\\mathbf{b}\n",
    "$ \n",
    "  \n",
    "gdzie $\\mathbf{A}$ to macierz współczynników z lewej strony równania, wektor $\\mathbf{x}$ jest wektorem zmiennych a wektor $\\mathbf{b}$ wyników prawej strony równania.  \n",
    "\n",
    "Do oceny jakości rozwiązania będziemy wykorzystywać residuum (ang. *residual*)\n",
    "$\n",
    "\\mathbf{r}=\\mathbf{b}-\\mathbf{Ax}\n",
    "$ \n",
    "  "
   ]
  },
  {
   "source": [
    "***Zadanie 1***   \n",
    "Zdefiniuję funkcję *diag_dominant_matrix_A_b*, przyjmującą paramter całkowity $m>0$ która zwróci:\n",
    "- macierz diagonalnie zdominowana $\\mathbf{A}$ o wymiarach $m \\times m$ (wyrazy na przekątnej sa wieksze co do modułu od sumy pozostałych w danej kolumnie i wierszu)\n",
    "- wektor $\\mathbf{b}$ o wymiarach $m \\times 1$ \n",
    " \n",
    "o losowych wartościach całkowitych\n",
    "\n",
    "Dodatkowo zdefiniuj funkcje *is_diag_dominant* sprawdzającą czy zadana macierz jest diagonalnie zdominowana"
   ],
   "cell_type": "markdown",
   "metadata": {}
  },
  {
   "cell_type": "code",
   "execution_count": 20,
   "outputs": [
    {
     "name": "stdout",
     "text": [
      "Utworzona macierz:\n",
      "[[ 46   1   8   7   6   2   4   4   0   3]\n",
      " [  4  81   5   8   8   9   0   3   6   0]\n",
      " [  3   7 127   6   3   7   5   7   3   4]\n",
      " [  6   0   6 181   4   9   7   6   6   4]\n",
      " [  0   1   5   8 218   9   1   9   6   7]\n",
      " [  6   8   1   6   0 268   4   6   1   3]\n",
      " [  9   2   7   2   3   1 302   6   4   9]\n",
      " [  5   0   2   1   6   6   6 348   9   2]\n",
      " [  3   7   6   9   2   8   5   4 387   0]\n",
      " [  9   9   6   7   3   1   2   1   4 419]]\n",
      "\n",
      "oraz wektor:\n",
      "[6 8 3 8 1 4 5 1 3 8]\n",
      "\n",
      "Czy utworzona macierz jest diagonalnie zdominowana? -> True\n"
     ],
     "output_type": "stream"
    }
   ],
   "source": [
    "A_zad1, b_zad1 = main.diag_dominant_matrix_A_b(10)\n",
    "test_zad1 = main.is_diag_dominant(A_zad1)\n",
    "\n",
    "print(\"Utworzona macierz:\\n{}\\n\\noraz wektor:\\n{}\\n\".format(A_zad1, b_zad1))\n",
    "print(\"Czy utworzona macierz jest diagonalnie zdominowana? -> {}\".format(test_zad1))"
   ],
   "metadata": {
    "collapsed": false,
    "pycharm": {
     "name": "#%%\n",
     "is_executing": false
    }
   }
  },
  {
   "source": [
    "***Zadanie 2***   \n",
    "Zdefiniuję funkcję *symmetric_matrix_A_b*, przyjmującą paramter całkowity $m>0$ która zwróci:\n",
    "- symetryczną macierz $\\mathbf{A}$ o wymiarach $m \\times m$ (wyrazy symetryczne względnej przekątnej są sobie równe)\n",
    "- wektor $\\mathbf{b}$ o wymiarach $m \\times 1$ \n",
    " \n",
    "o losowych wartościach całkowitych\n",
    "\n",
    "Dodatkowo zdefiniuj funkcje is_symmetric sprawdzającą czy zadana macierz jest symetryczna"
   ],
   "cell_type": "markdown",
   "metadata": {}
  },
  {
   "cell_type": "code",
   "execution_count": 21,
   "outputs": [
    {
     "name": "stdout",
     "text": [
      "Utworzona macierz:\n",
      "[[7 9 6 3 9 0 6 3 4 0]\n",
      " [9 7 5 9 9 8 8 1 0 5]\n",
      " [6 5 1 8 4 1 5 8 9 6]\n",
      " [3 9 8 9 2 3 0 8 7 4]\n",
      " [9 9 4 2 5 7 0 8 2 5]\n",
      " [0 8 1 3 7 6 5 3 2 0]\n",
      " [6 8 5 0 0 5 7 5 0 7]\n",
      " [3 1 8 8 8 3 5 1 0 3]\n",
      " [4 0 9 7 2 2 0 0 8 9]\n",
      " [0 5 6 4 5 0 7 3 9 0]]\n",
      "\n",
      "oraz wektor:\n",
      "[0 1 1 4 9 2 3 9 5 0]\n",
      "\n",
      "Czy utworzona macierz jest symetryczna? -> True\n"
     ],
     "output_type": "stream"
    }
   ],
   "source": [
    "A_zad2, b_zad2 = main.symmetric_matrix_A_b(10)\n",
    "test_zad2 = main.is_symmetric(A_zad2)\n",
    "\n",
    "print(\"Utworzona macierz:\\n{}\\n\\noraz wektor:\\n{}\\n\".format(A_zad2, b_zad2))\n",
    "print(\"Czy utworzona macierz jest symetryczna? -> {}\".format(test_zad2))"
   ],
   "metadata": {
    "collapsed": false,
    "pycharm": {
     "name": "#%%\n",
     "is_executing": false
    }
   }
  },
  {
   "source": [
    "***Zadanie 3***   \n",
    "Zdefiniuję następujące układy równań:\n",
    "\n",
    "a) $\\mathbf{A_1}$, $\\mathbf{b_1}$: gdzie $\\mathbf{A_1}$ jest macierzą o wymiarach $m \\times m$, a $\\mathbf{b_1}$ wektorem $m \\times 1$, $m = 10$\n",
    "\n",
    "b) $\\mathbf{A_2}$, $\\mathbf{b_2}$: gdzie $\\mathbf{A_2}$ jest macierzą **diagonalnie zdominowaną** o wymiarach$m \\times m$, a $\\mathbf{b_2}$ wektorem $m \\times 1$, $m = 10$\n",
    " \n",
    "c) $\\mathbf{A_3}$, $\\mathbf{b_3}$: gdzie $\\mathbf{A_3}$ jest macierzą **symetryczną** o wymiarach $m \\times m$, a $\\mathbf{b_3}$ wektorem $m \\times 1$, $m = 10$   \n",
    " \n",
    "**Wskazówka**: Do generacji macierzy użyj metody *random_matrix_Ab* z lab6 oraz metod *diag_dominant_matrix_A_b* i *symmetric_matrix_A_b*"
   ],
   "cell_type": "markdown",
   "metadata": {}
  },
  {
   "cell_type": "code",
   "execution_count": 22,
   "outputs": [
    {
     "name": "stdout",
     "text": [
      "a) Utworzona macierz:\n",
      "[[6 4 2 1 3 2 8 0 6 9]\n",
      " [9 6 5 0 7 9 1 9 2 7]\n",
      " [5 1 6 9 6 6 7 0 8 6]\n",
      " [2 6 8 5 8 8 5 7 0 5]\n",
      " [2 9 1 3 0 4 3 5 6 1]\n",
      " [8 9 2 2 7 3 5 4 3 5]\n",
      " [7 6 6 4 2 1 2 5 0 3]\n",
      " [8 6 9 8 7 0 0 5 5 3]\n",
      " [6 8 6 4 2 3 4 2 8 8]\n",
      " [3 8 4 9 0 6 1 7 9 3]]\n",
      "\n",
      "oraz wektor:\n",
      "[6 1 9 5 1 2 7 1 1 3]\n",
      "\n",
      "Czy utworzona macierz jest diagonalnie zdominowana? -> False\n",
      "Czy utworzona macierz jest symetryczna? -> False\n",
      "\n",
      "b) Utworzona macierz diagonalnie zdominowana:\n",
      "[[ 48   6   4   6   8   5   5   4   1   1]\n",
      " [  6  91   4   3   5   3   6   6   7   0]\n",
      " [  6   3 139   6   8   1   9   2   2   1]\n",
      " [  2   5   3 181   3   4   2   4   3   9]\n",
      " [  8   3   7   6 224   1   2   1   7   9]\n",
      " [  5   7   2   2   8 257   7   9   8   3]\n",
      " [  4   5   5   8   3   9 308   9   4   5]\n",
      " [  8   7   9   4   3   0   5 355   7   2]\n",
      " [  6   7   8   2   5   1   8   7 395   5]\n",
      " [  2   0   6   5   0   9   7   5   1 430]]\n",
      "\n",
      "oraz wektor:\n",
      "[1 1 9 8 7 6 8 8 7 5]\n",
      "\n",
      "Czy utworzona macierz jest diagonalnie zdominowana? -> True\n",
      "Czy utworzona macierz jest symetryczna? -> False\n",
      "\n",
      "c) Utworzona macierz symetryczna:\n",
      "[[1 0 2 4 9 6 2 4 4 7]\n",
      " [0 6 6 1 0 6 2 7 7 5]\n",
      " [2 6 5 0 9 6 4 8 0 7]\n",
      " [4 1 0 7 1 7 1 9 9 5]\n",
      " [9 0 9 1 4 8 9 7 4 1]\n",
      " [6 6 6 7 8 6 6 2 8 7]\n",
      " [2 2 4 1 9 6 9 6 6 6]\n",
      " [4 7 8 9 7 2 6 7 8 4]\n",
      " [4 7 0 9 4 8 6 8 6 6]\n",
      " [7 5 7 5 1 7 6 4 6 1]]\n",
      "\n",
      "oraz wektor:\n",
      "[9 8 0 4 0 0 6 4 6 2]\n",
      "\n",
      "Czy utworzona macierz jest diagonalnie zdominowana? -> False\n",
      "Czy utworzona macierz jest symetryczna? -> True\n"
     ],
     "output_type": "stream"
    }
   ],
   "source": [
    "A1, b1 = main.random_matrix_Ab(10)\n",
    "print(\"a) Utworzona macierz:\\n{}\\n\\noraz wektor:\\n{}\\n\".format(A1, b1))\n",
    "test_A1d = main.is_diag_dominant(A1)\n",
    "print(\"Czy utworzona macierz jest diagonalnie zdominowana? -> {}\".format(test_A1d))\n",
    "test_A1s = main.is_symmetric(A1)\n",
    "print(\"Czy utworzona macierz jest symetryczna? -> {}\".format(test_A1s))\n",
    "\n",
    "A2, b2 = main.diag_dominant_matrix_A_b(10)\n",
    "print(\"\\nb) Utworzona macierz diagonalnie zdominowana:\\n{}\\n\\noraz wektor:\\n{}\\n\".format(A2, b2))\n",
    "test_A2d = main.is_diag_dominant(A2)\n",
    "print(\"Czy utworzona macierz jest diagonalnie zdominowana? -> {}\".format(test_A2d))\n",
    "test_A2s = main.is_symmetric(A2)\n",
    "print(\"Czy utworzona macierz jest symetryczna? -> {}\".format(test_A2s))\n",
    "\n",
    "A3, b3 = main.symmetric_matrix_A_b(10)\n",
    "print(\"\\nc) Utworzona macierz symetryczna:\\n{}\\n\\noraz wektor:\\n{}\\n\".format(A3, b3))\n",
    "test_A3d = main.is_diag_dominant(A3)\n",
    "print(\"Czy utworzona macierz jest diagonalnie zdominowana? -> {}\".format(test_A3d))\n",
    "test_A3s = main.is_symmetric(A3)\n",
    "print(\"Czy utworzona macierz jest symetryczna? -> {}\".format(test_A3s))"
   ],
   "metadata": {
    "collapsed": false,
    "pycharm": {
     "name": "#%%\n",
     "is_executing": false
    }
   }
  },
  {
   "source": [
    "***Zadanie 4***   \n",
    "Zaimplementuj iteracyjną metodę *solve_jacobi*, rozwiązującą układ równań metodą Jacobiego zgodnie z dokumentacją w pliku *main.py*.\n",
    "Szczegóły metody zostały przedstawione na wykładzie.\n",
    "\n",
    "Rozwiązanie:\n",
    "Zaimplementowano w pliku main.py"
   ],
   "cell_type": "markdown",
   "metadata": {}
  },
  {
   "source": [
    "***Zadanie 5***   \n",
    "Rozwiąż układ równań z Zadania 3 podpunkt a) przy pomocy:\n",
    "\n",
    "- funkcji *[solve](https://docs.scipy.org/doc/numpy-1.15.1/reference/generated/numpy.linalg.solve.html?highlight=solve#numpy.linalg.solve)* z biblioteki numpy\n",
    "\n",
    "- zaimplementowanej iteracyjnej metody *solve_jacobi*\n",
    "\n",
    "- iteracyjnej metody *[gradientów sprzężonych](https://docs.scipy.org/doc/scipy/reference/generated/scipy.sparse.linalg.cg.html)*\n",
    " z biblioteki scipy\n",
    "\n",
    "- iteracyjnej metody *[GMRES](https://docs.scipy.org/doc/scipy/reference/generated/scipy.sparse.linalg.gmres.html)*\n",
    " z biblioteki scipy\n",
    "\n",
    "Przed każdą metodą sprawdź czy warunki dotyczące macierzy dla danej metody są spełnione. Zbadaj dokładność i czas obliczeń metod w zależności od liczby iteracji. Wyniki przedstaw na wykresach."
   ],
   "cell_type": "markdown",
   "metadata": {}
  },
  {
   "cell_type": "code",
   "execution_count": 26,
   "outputs": [
    {
     "name": "stdout",
     "text": [
      "Utworzona macierz z podpunktu a):\n",
      "[[6 4 2 1 3 2 8 0 6 9]\n",
      " [9 6 5 0 7 9 1 9 2 7]\n",
      " [5 1 6 9 6 6 7 0 8 6]\n",
      " [2 6 8 5 8 8 5 7 0 5]\n",
      " [2 9 1 3 0 4 3 5 6 1]\n",
      " [8 9 2 2 7 3 5 4 3 5]\n",
      " [7 6 6 4 2 1 2 5 0 3]\n",
      " [8 6 9 8 7 0 0 5 5 3]\n",
      " [6 8 6 4 2 3 4 2 8 8]\n",
      " [3 8 4 9 0 6 1 7 9 3]]\n",
      "\n",
      "oraz wektor:\n",
      "[6 1 9 5 1 2 7 1 1 3]\n",
      "\n",
      "Czy utworzona macierz jest diagonalnie zdominowana? -> False\n",
      "Czy utworzona macierz jest symetryczna? -> False\n",
      "\n",
      "Rozwiązanie równania z zastosowaniem metody linalg.solve:\n",
      "[ 0.67151027 -0.6579347   0.02380054  0.70407923 -0.78472689  0.07292379\n",
      "  1.37824555  0.51220562 -0.56123589 -0.177691  ]\n",
      "\n",
      "Czas wykonania: \n",
      "47.5 µs ± 26.8 µs per loop (mean ± std. dev. of 5 runs, 10 loops each)\n",
      "\n",
      "Pamięć: \n",
      "peak memory: 145.76 MiB, increment: 0.01 MiB\n",
      "\n",
      "Rozwiązanie równania z zastosowaniem metody main.solve_jacobi:\n",
      "(array([nan, nan, nan, nan, nan, nan, nan, nan, nan, nan]), [inf, nan, nan, nan, nan, nan, nan, nan, nan, nan, nan, nan, nan, nan, nan, nan, nan, nan, nan, nan, nan, nan, nan, nan, nan, nan, nan, nan, nan, nan, nan, nan, nan, nan, nan, nan, nan, nan, nan, nan, nan, nan, nan, nan, nan, nan, nan, nan, nan, nan, nan, nan, nan, nan, nan, nan, nan, nan, nan, nan, nan, nan, nan, nan, nan, nan, nan, nan, nan, nan, nan, nan, nan, nan, nan, nan, nan, nan, nan, nan, nan, nan, nan, nan, nan, nan, nan, nan, nan, nan, nan, nan, nan, nan, nan, nan, nan, nan, nan, nan])\n",
      "\n",
      "Czas wykonania: \n",
      "38 ns ± 11.7 ns per loop (mean ± std. dev. of 5 runs, 10 loops each)\n",
      "\n",
      "Pamięć: \n",
      "peak memory: 145.76 MiB, increment: 0.00 MiB\n",
      "\n",
      "Rozwiązanie równania z zastosowaniem metody sp.sparse.linalg.cg:\n",
      "(array([nan, nan, nan, nan, nan, nan, nan, nan, nan, nan]), 100)\n",
      "\n",
      "Czas wykonania: \n",
      "38 ns ± 11.7 ns per loop (mean ± std. dev. of 5 runs, 10 loops each)\n",
      "\n",
      "Pamięć: \n",
      "peak memory: 145.76 MiB, increment: 0.00 MiB\n",
      "\n",
      "Rozwiązanie równania z zastosowaniem metody sp.sparse.linalg.gmres:\n",
      "(array([ 0.67151027, -0.6579347 ,  0.02380054,  0.70407923, -0.78472689,\n",
      "        0.07292379,  1.37824555,  0.51220562, -0.56123589, -0.177691  ]), 0)\n",
      "\n",
      "Czas wykonania: \n",
      "34 ns ± 8 ns per loop (mean ± std. dev. of 5 runs, 10 loops each)\n",
      "\n",
      "Pamięć: \n",
      "peak memory: 145.76 MiB, increment: 0.00 MiB\n"
     ],
     "output_type": "stream"
    },
    {
     "name": "stderr",
     "text": [
      "D:\\Metody numeryczne lab\\laboratorium-8-m-wieloch\\main.py:167: RuntimeWarning: divide by zero encountered in true_divide\n",
      "  D_inv = np.diag(1 / np.diag(D))\n"
     ],
     "output_type": "stream"
    },
    {
     "data": {
      "text/plain": "<Figure size 432x288 with 1 Axes>",
      "image/png": "[encoded data removed]"
     },
     "metadata": {
      "needs_background": "light"
     },
     "output_type": "display_data"
    },
    {
     "data": {
      "text/plain": "<Figure size 432x288 with 1 Axes>",
      "image/png": "[encoded data removed]"
     },
     "metadata": {
      "needs_background": "light"
     },
     "output_type": "display_data"
    }
   ],
   "source": [
    "print(\"Utworzona macierz z podpunktu a):\\n{}\\n\\noraz wektor:\\n{}\\n\".format(A1, b1))\n",
    "print(\"Czy utworzona macierz jest diagonalnie zdominowana? -> {}\".format(test_A1d))\n",
    "print(\"Czy utworzona macierz jest symetryczna? -> {}\\n\".format(test_A1s))\n",
    "\n",
    "solution_a1 = sp.linalg.solve(A1, b1)\n",
    "norm_a1 = main.residual_norm(A1, solution_a1, b1)\n",
    "print(\"Rozwiązanie równania z zastosowaniem metody linalg.solve:\\n{}\\n\".format(solution_a1))\n",
    "print(\"Czas wykonania: \")\n",
    "ta1 = %timeit -r 5 -n 10 -o sp.linalg.solve(A1, b1)\n",
    "print(\"\\nPamięć: \")\n",
    "%memit sp.linalg.solve(A1, b1)\n",
    "\n",
    "solution_a2 = main.solve_jacobi(A1, b1, solution_a1)\n",
    "norm_a2 = main.residual_norm(A1, solution_a2[0], b1)\n",
    "print(\"\\nRozwiązanie równania z zastosowaniem metody main.solve_jacobi:\\n{}\\n\".format(solution_a2))\n",
    "print(\"Czas wykonania: \")\n",
    "ta2 = %timeit -r 5 -n 10 -o solution_a2\n",
    "print(\"\\nPamięć: \")\n",
    "%memit main.solve_jacobi(A1, b1, solution_a1)\n",
    "\n",
    "solution_a3 = sp.sparse.linalg.cg(A1, b1)\n",
    "norm_a3 = main.residual_norm(A1, solution_a3[0], b1)\n",
    "print(\"\\nRozwiązanie równania z zastosowaniem metody sp.sparse.linalg.cg:\\n{}\\n\".format(solution_a3))\n",
    "print(\"Czas wykonania: \")\n",
    "ta3 = %timeit -r 5 -n 10 -o solution_a3\n",
    "print(\"\\nPamięć: \")\n",
    "%memit sp.sparse.linalg.cg(A1, b1)\n",
    "\n",
    "solution_a4 = sp.sparse.linalg.gmres(A1, b1)\n",
    "norm_a4 = main.residual_norm(A1, solution_a4[0], b1)\n",
    "print(\"\\nRozwiązanie równania z zastosowaniem metody sp.sparse.linalg.gmres:\\n{}\\n\".format(solution_a4))\n",
    "print(\"Czas wykonania: \")\n",
    "ta4 = %timeit -r 5 -n 10 -o solution_a4\n",
    "print(\"\\nPamięć: \")\n",
    "%memit sp.sparse.linalg.gmres(A1, b1)\n",
    "\n",
    "xa = [\"linalg-solve\", \"solve-jacobi\", \"linalg-cg\", \"linalg-gmres\"]\n",
    "norm_a = [norm_a1, norm_a2, norm_a3, norm_a4]\n",
    "\n",
    "plt.figure()\n",
    "plt.bar(xa, norm_a)\n",
    "plt.title(\"Wykres normy\")\n",
    "plt.xlabel(\"Zastosowana metoda\")\n",
    "plt.ylabel(\"Norma rozwiazania\")\n",
    "plt.yscale('log')\n",
    "plt.show()\n",
    "\n",
    "ta = [ta1.average, ta2.average, ta3.average, ta4.average]\n",
    "\n",
    "plt.figure()\n",
    "plt.plot(xa, ta)\n",
    "plt.title(\"Wykres czasu wykonania\")\n",
    "plt.xlabel(\"Zastosowana metoda\")\n",
    "plt.ylabel(\"Czas wykonania\")\n",
    "plt.yscale('log')\n",
    "plt.show()"
   ],
   "metadata": {
    "collapsed": false,
    "pycharm": {
     "name": "#%%\n",
     "is_executing": false
    }
   }
  },
  {
   "source": [
    "***Zadanie 6***     \n",
    "Rozwiąż układ równań z Zadania 3 podpunkt b) przy pomocy:\n",
    "\n",
    "- funkcji *[solve](https://docs.scipy.org/doc/numpy-1.15.1/reference/generated/numpy.linalg.solve.html?highlight=solve#numpy.linalg.solve)* z biblioteki numpy\n",
    "\n",
    "- zaimplementowanej iteracyjnej metody *solve_jacobi*\n",
    "\n",
    "- iteracyjnej metody *[gradientów sprzężonych](https://docs.scipy.org/doc/scipy/reference/generated/scipy.sparse.linalg.cg.html)*\n",
    " z biblioteki scipy\n",
    "\n",
    "- iteracyjnej metody *[GMRES](https://docs.scipy.org/doc/scipy/reference/generated/scipy.sparse.linalg.gmres.html)*\n",
    " z biblioteki scipy\n",
    "\n",
    "Przed każdą metodą sprawdź czy warunki dotyczące macierzy dla danej metody są spełnione. Zbadaj dokładność i czas obliczeń metod w zależności od liczby iteracji. Wyniki przedstaw na wykresach."
   ],
   "cell_type": "markdown",
   "metadata": {}
  },
  {
   "cell_type": "code",
   "execution_count": 24,
   "outputs": [
    {
     "name": "stdout",
     "text": [
      "Utworzona macierz z podpunktu b):\n",
      "[[ 48   6   4   6   8   5   5   4   1   1]\n",
      " [  6  91   4   3   5   3   6   6   7   0]\n",
      " [  6   3 139   6   8   1   9   2   2   1]\n",
      " [  2   5   3 181   3   4   2   4   3   9]\n",
      " [  8   3   7   6 224   1   2   1   7   9]\n",
      " [  5   7   2   2   8 257   7   9   8   3]\n",
      " [  4   5   5   8   3   9 308   9   4   5]\n",
      " [  8   7   9   4   3   0   5 355   7   2]\n",
      " [  6   7   8   2   5   1   8   7 395   5]\n",
      " [  2   0   6   5   0   9   7   5   1 430]]\n",
      "\n",
      "oraz wektor:\n",
      "[1 1 9 8 7 6 8 8 7 5]\n",
      "\n",
      "Czy utworzona macierz jest diagonalnie zdominowana? -> True\n",
      "Czy utworzona macierz jest symetryczna? -> False\n",
      "\n",
      "Rozwiązanie równania z zastosowaniem metody linalg.solve:\n",
      "[-0.00038168  0.00100535  0.05927393  0.04091557  0.02708586  0.01983556\n",
      "  0.02217396  0.01967108  0.01499352  0.00928711]\n",
      "\n",
      "Czas wykonania: \n",
      "The slowest run took 4.39 times longer than the fastest. This could mean that an intermediate result is being cached.\n",
      "34.7 µs ± 27.9 µs per loop (mean ± std. dev. of 5 runs, 10 loops each)\n",
      "\n",
      "Pamięć: \n",
      "peak memory: 145.76 MiB, increment: 0.00 MiB\n",
      "\n",
      "Rozwiązanie równania z zastosowaniem metody main.solve_jacobi:\n",
      "(array([-0.00038168,  0.00100535,  0.05927393,  0.04091557,  0.02708586,\n",
      "        0.01983556,  0.02217396,  0.01967108,  0.01499352,  0.00928711]), [1.5326895634935437e-17])\n",
      "\n",
      "Czas wykonania: \n",
      "40 ns ± 6.32 ns per loop (mean ± std. dev. of 5 runs, 10 loops each)\n",
      "\n",
      "Pamięć: \n",
      "peak memory: 145.82 MiB, increment: 0.00 MiB\n",
      "\n",
      "Rozwiązanie równania z zastosowaniem metody sp.sparse.linalg.cg:\n",
      "(array([-0.00038099,  0.00100577,  0.05927391,  0.04091575,  0.02708559,\n",
      "        0.0198355 ,  0.02217397,  0.01967104,  0.01499341,  0.00928703]), 0)\n",
      "\n",
      "Czas wykonania: \n",
      "38 ns ± 11.7 ns per loop (mean ± std. dev. of 5 runs, 10 loops each)\n",
      "\n",
      "Pamięć: \n",
      "peak memory: 145.82 MiB, increment: 0.00 MiB\n",
      "\n",
      "Rozwiązanie równania z zastosowaniem metody sp.sparse.linalg.gmres:\n",
      "(array([-0.00038168,  0.00100535,  0.05927393,  0.04091557,  0.02708586,\n",
      "        0.01983556,  0.02217396,  0.01967108,  0.01499352,  0.00928711]), 0)\n",
      "\n",
      "Czas wykonania: \n",
      "44 ns ± 13.6 ns per loop (mean ± std. dev. of 5 runs, 10 loops each)\n",
      "\n",
      "Pamięć: \n",
      "peak memory: 145.82 MiB, increment: 0.00 MiB\n"
     ],
     "output_type": "stream"
    },
    {
     "data": {
      "text/plain": "<Figure size 432x288 with 1 Axes>",
      "image/png": "[encoded data removed]"
     },
     "metadata": {
      "needs_background": "light"
     },
     "output_type": "display_data"
    },
    {
     "data": {
      "text/plain": "<Figure size 432x288 with 1 Axes>",
      "image/png": "[encoded data removed]"
     },
     "metadata": {
      "needs_background": "light"
     },
     "output_type": "display_data"
    }
   ],
   "source": [
    "print(\"Utworzona macierz z podpunktu b):\\n{}\\n\\noraz wektor:\\n{}\\n\".format(A2, b2))\n",
    "print(\"Czy utworzona macierz jest diagonalnie zdominowana? -> {}\".format(test_A2d))\n",
    "print(\"Czy utworzona macierz jest symetryczna? -> {}\\n\".format(test_A2s))\n",
    "\n",
    "solution_b1 = sp.linalg.solve(A2, b2)\n",
    "norm_b1 = main.residual_norm(A2, solution_b1, b2)\n",
    "print(\"Rozwiązanie równania z zastosowaniem metody linalg.solve:\\n{}\\n\".format(solution_b1))\n",
    "print(\"Czas wykonania: \")\n",
    "tb1 = %timeit -r 5 -n 10 -o sp.linalg.solve(A2, b2)\n",
    "print(\"\\nPamięć: \")\n",
    "%memit sp.linalg.solve(A2, b2)\n",
    "\n",
    "solution_b2 = main.solve_jacobi(A2, b2, solution_b1)\n",
    "norm_b2 = main.residual_norm(A2, solution_b2[0], b2)\n",
    "print(\"\\nRozwiązanie równania z zastosowaniem metody main.solve_jacobi:\\n{}\\n\".format(solution_b2))\n",
    "print(\"Czas wykonania: \")\n",
    "tb2 = %timeit -r 5 -n 10 -o solution_b2\n",
    "print(\"\\nPamięć: \")\n",
    "%memit main.solve_jacobi(A2, b2, solution_b1)\n",
    "\n",
    "solution_b3 = sp.sparse.linalg.cg(A2, b2)\n",
    "norm_b3 = main.residual_norm(A2, solution_b3[0], b2)\n",
    "print(\"\\nRozwiązanie równania z zastosowaniem metody sp.sparse.linalg.cg:\\n{}\\n\".format(solution_b3))\n",
    "print(\"Czas wykonania: \")\n",
    "tb3 = %timeit -r 5 -n 10 -o solution_b3\n",
    "print(\"\\nPamięć: \")\n",
    "%memit sp.sparse.linalg.cg(A2, b2)\n",
    "\n",
    "solution_b4 = sp.sparse.linalg.gmres(A2, b2)\n",
    "norm_b4 = main.residual_norm(A2, solution_b4[0], b2)\n",
    "print(\"\\nRozwiązanie równania z zastosowaniem metody sp.sparse.linalg.gmres:\\n{}\\n\".format(solution_b4))\n",
    "print(\"Czas wykonania: \")\n",
    "tb4 = %timeit -r 5 -n 10 -o solution_b4\n",
    "print(\"\\nPamięć: \")\n",
    "%memit sp.sparse.linalg.gmres(A2, b2)\n",
    "\n",
    "xb = [\"linalg-solve\", \"solve-jacobi\", \"linalg-cg\", \"linalg-gmres\"]\n",
    "norm_b = [norm_b1, norm_b2, norm_b3, norm_b4]\n",
    "\n",
    "plt.figure()\n",
    "plt.bar(xb, norm_b)\n",
    "plt.title(\"Wykres normy\")\n",
    "plt.xlabel(\"Zastosowana metoda\")\n",
    "plt.ylabel(\"Norma rozwiazania\")\n",
    "plt.yscale('log')\n",
    "plt.show()\n",
    "\n",
    "tb = [tb1.average, tb2.average, tb3.average, tb4.average]\n",
    "\n",
    "plt.figure()\n",
    "plt.plot(xb, tb)\n",
    "plt.title(\"Wykres czasu wykonania\")\n",
    "plt.xlabel(\"Zastosowana metoda\")\n",
    "plt.ylabel(\"Czas wykonania\")\n",
    "plt.yscale('log')\n",
    "plt.show()"
   ],
   "metadata": {
    "collapsed": false,
    "pycharm": {
     "name": "#%%\n",
     "is_executing": false
    }
   }
  },
  {
   "source": [
    "***Zadanie 7***   \n",
    "Rozwiąż układ równań z Zadania 3 podpunkt c) przy pomocy:\n",
    "\n",
    "- funkcji *[solve](https://docs.scipy.org/doc/numpy-1.15.1/reference/generated/numpy.linalg.solve.html?highlight=solve#numpy.linalg.solve)* z biblioteki numpy\n",
    "\n",
    "- zaimplementowanej iteracyjnej metody *solve_jacobi*\n",
    "\n",
    "- iteracyjnej metody *[gradientów sprzężonych](https://docs.scipy.org/doc/scipy/reference/generated/scipy.sparse.linalg.cg.html)*\n",
    " z biblioteki scipy\n",
    "\n",
    "- iteracyjnej metody *[GMRES](https://docs.scipy.org/doc/scipy/reference/generated/scipy.sparse.linalg.gmres.html)*\n",
    " z biblioteki scipy\n",
    "\n",
    "Przed każdą metodą sprawdź czy warunki dotyczące macierzy dla danej metody są spełnione. Zbadaj dokładność i czas obliczeń metod w zależności od liczby iteracji. Wyniki przedstaw na wykresach."
   ],
   "cell_type": "markdown",
   "metadata": {}
  },
  {
   "cell_type": "code",
   "execution_count": 25,
   "outputs": [
    {
     "name": "stdout",
     "text": [
      "Utworzona macierz z podpunktu c):\n",
      "[[1 0 2 4 9 6 2 4 4 7]\n",
      " [0 6 6 1 0 6 2 7 7 5]\n",
      " [2 6 5 0 9 6 4 8 0 7]\n",
      " [4 1 0 7 1 7 1 9 9 5]\n",
      " [9 0 9 1 4 8 9 7 4 1]\n",
      " [6 6 6 7 8 6 6 2 8 7]\n",
      " [2 2 4 1 9 6 9 6 6 6]\n",
      " [4 7 8 9 7 2 6 7 8 4]\n",
      " [4 7 0 9 4 8 6 8 6 6]\n",
      " [7 5 7 5 1 7 6 4 6 1]]\n",
      "\n",
      "oraz wektor:\n",
      "[9 8 0 4 0 0 6 4 6 2]\n",
      "\n",
      "Czy utworzona macierz jest diagonalnie zdominowana? -> False\n",
      "Czy utworzona macierz jest symetryczna? -> True\n",
      "\n",
      "Rozwiązanie równania z zastosowaniem metody linalg.solve:\n",
      "[-2.75494135 -0.90958492  0.99508456  1.45255863 -0.30814465  1.51864415\n",
      "  0.64264714 -0.11619681 -0.30423117 -0.28394396]\n",
      "\n",
      "Czas wykonania: \n",
      "The slowest run took 5.25 times longer than the fastest. This could mean that an intermediate result is being cached.\n",
      "38.2 µs ± 34.8 µs per loop (mean ± std. dev. of 5 runs, 10 loops each)\n",
      "\n",
      "Pamięć: \n",
      "peak memory: 145.82 MiB, increment: 0.02 MiB\n",
      "\n",
      "Rozwiązanie równania z zastosowaniem metody main.solve_jacobi:\n",
      "(array([-2.75494135, -0.90958492,  0.99508456,  1.45255863, -0.30814465,\n",
      "        1.51864415,  0.64264714, -0.11619681, -0.30423117, -0.28394396]), [3.658370179401721e-15])\n",
      "\n",
      "Czas wykonania: \n",
      "34 ns ± 8 ns per loop (mean ± std. dev. of 5 runs, 10 loops each)\n",
      "\n",
      "Pamięć: \n",
      "peak memory: 145.82 MiB, increment: 0.00 MiB\n",
      "\n",
      "Rozwiązanie równania z zastosowaniem metody sp.sparse.linalg.cg:\n",
      "(array([-2.75494135, -0.90958491,  0.99508456,  1.45255863, -0.30814464,\n",
      "        1.51864415,  0.64264714, -0.11619681, -0.30423116, -0.28394395]), 0)\n",
      "\n",
      "Czas wykonania: \n",
      "40 ns ± 11 ns per loop (mean ± std. dev. of 5 runs, 10 loops each)\n",
      "\n",
      "Pamięć: \n",
      "peak memory: 145.82 MiB, increment: 0.00 MiB\n",
      "\n",
      "Rozwiązanie równania z zastosowaniem metody sp.sparse.linalg.gmres:\n",
      "(array([-2.75494135, -0.90958492,  0.99508456,  1.45255863, -0.30814465,\n",
      "        1.51864415,  0.64264714, -0.11619681, -0.30423117, -0.28394396]), 0)\n",
      "\n",
      "Czas wykonania: \n",
      "42 ns ± 9.8 ns per loop (mean ± std. dev. of 5 runs, 10 loops each)\n",
      "\n",
      "Pamięć: \n",
      "peak memory: 145.82 MiB, increment: 0.00 MiB\n"
     ],
     "output_type": "stream"
    },
    {
     "data": {
      "text/plain": "<Figure size 432x288 with 1 Axes>",
      "image/png": "[encoded data removed]"
     },
     "metadata": {
      "needs_background": "light"
     },
     "output_type": "display_data"
    },
    {
     "data": {
      "text/plain": "<Figure size 432x288 with 1 Axes>",
      "image/png": "[encoded data removed]"
     },
     "metadata": {
      "needs_background": "light"
     },
     "output_type": "display_data"
    }
   ],
   "source": [
    "print(\"Utworzona macierz z podpunktu c):\\n{}\\n\\noraz wektor:\\n{}\\n\".format(A3, b3))\n",
    "print(\"Czy utworzona macierz jest diagonalnie zdominowana? -> {}\".format(test_A3d))\n",
    "print(\"Czy utworzona macierz jest symetryczna? -> {}\\n\".format(test_A3s))\n",
    "\n",
    "solution_c1 = sp.linalg.solve(A3, b3)\n",
    "norm_c1 = main.residual_norm(A3, solution_c1, b3)\n",
    "print(\"Rozwiązanie równania z zastosowaniem metody linalg.solve:\\n{}\\n\".format(solution_c1))\n",
    "print(\"Czas wykonania: \")\n",
    "tc1 = %timeit -r 5 -n 10 -o sp.linalg.solve(A3, b3)\n",
    "print(\"\\nPamięć: \")\n",
    "%memit sp.linalg.solve(A3, b3)\n",
    "\n",
    "solution_c2 = main.solve_jacobi(A3, b3, solution_c1)\n",
    "norm_c2 = main.residual_norm(A3, solution_c2[0], b3)\n",
    "print(\"\\nRozwiązanie równania z zastosowaniem metody main.solve_jacobi:\\n{}\\n\".format(solution_c2))\n",
    "print(\"Czas wykonania: \")\n",
    "tc2 = %timeit -r 5 -n 10 -o solution_c2\n",
    "print(\"\\nPamięć: \")\n",
    "%memit main.solve_jacobi(A3, b3, solution_c1)\n",
    "\n",
    "solution_c3 = sp.sparse.linalg.cg(A3, b3)\n",
    "norm_c3 = main.residual_norm(A3, solution_c3[0], b3)\n",
    "print(\"\\nRozwiązanie równania z zastosowaniem metody sp.sparse.linalg.cg:\\n{}\\n\".format(solution_c3))\n",
    "print(\"Czas wykonania: \")\n",
    "tc3 = %timeit -r 5 -n 10 -o solution_c3\n",
    "print(\"\\nPamięć: \")\n",
    "%memit sp.sparse.linalg.cg(A3, b3)\n",
    "\n",
    "solution_c4 = sp.sparse.linalg.gmres(A3, b3)\n",
    "norm_c4 = main.residual_norm(A3, solution_c4[0], b3)\n",
    "print(\"\\nRozwiązanie równania z zastosowaniem metody sp.sparse.linalg.gmres:\\n{}\\n\".format(solution_c4))\n",
    "print(\"Czas wykonania: \")\n",
    "tc4 = %timeit -r 5 -n 10 -o solution_c4\n",
    "print(\"\\nPamięć: \")\n",
    "%memit sp.sparse.linalg.gmres(A3, b3)\n",
    "\n",
    "xc = [\"linalg-solve\", \"solve-jacobi\", \"linalg-cg\", \"linalg-gmres\"]\n",
    "norm_c = [norm_c1, norm_c2, norm_c3, norm_c4]\n",
    "\n",
    "plt.figure()\n",
    "plt.bar(xc, norm_c)\n",
    "plt.title(\"Wykres normy\")\n",
    "plt.xlabel(\"Zastosowana metoda\")\n",
    "plt.ylabel(\"Norma rozwiazania\")\n",
    "plt.yscale('log')\n",
    "plt.show()\n",
    "\n",
    "tc = [tc1.average, tc2.average, tc3.average, tc4.average]\n",
    "\n",
    "plt.figure()\n",
    "plt.plot(xc, tc)\n",
    "plt.title(\"Wykres czasu wykonania\")\n",
    "plt.xlabel(\"Zastosowana metoda\")\n",
    "plt.ylabel(\"Czas wykonania\")\n",
    "plt.yscale('log')\n",
    "plt.show()"
   ],
   "metadata": {
    "collapsed": false,
    "pycharm": {
     "name": "#%%\n",
     "is_executing": false
    }
   }
  },
  {
   "cell_type": "markdown",
   "metadata": {},
   "source": [
    "Materiały uzupełniające:\n",
    "- [Scipy Lecture Notes](http://www.scipy-lectures.org/index.html)\n",
    "- [NumPy for Matlab users](https://docs.scipy.org/doc/numpy/user/numpy-for-matlab-users.html#numpy-for-matlab-users)\n",
    "- [Python Tutorial - W3Schools](https://www.w3schools.com/python/default.asp)\n",
    "- [NumPy](https://www.numpy.org)\n",
    "- [Matplotlib](https://matplotlib.org/)\n",
    "- [Anaconda](https://www.anaconda.com/)\n",
    "- [Learn Python for Data Science](https://www.datacamp.com/learn-python-with-anaconda?utm_source=Anaconda_download&utm_campaign=datacamp_training&utm_medium=banner)\n",
    "- [Learn Python](https://www.learnpython.org/)\n",
    "- [Wujek Google](https://google.pl) i [Ciocia Wikipedia](https://pl.wikipedia.org/wiki/Wikipedia:Strona_g%C5%82%C3%B3wna)"
   ]
  }
 ],
 "metadata": {
  "kernelspec": {
   "display_name": "Python 3",
   "language": "python",
   "name": "python3"
  },
  "language_info": {
   "codemirror_mode": {
    "name": "ipython",
    "version": 3
   },
   "file_extension": ".py",
   "mimetype": "text/x-python",
   "name": "python",
   "nbconvert_exporter": "python",
   "pygments_lexer": "ipython3",
   "version": "3.8.6-final"
  },
  "pycharm": {
   "stem_cell": {
    "cell_type": "raw",
    "source": [],
    "metadata": {
     "collapsed": false
    }
   }
  }
 },
 "nbformat": 4,
 "nbformat_minor": 2
}