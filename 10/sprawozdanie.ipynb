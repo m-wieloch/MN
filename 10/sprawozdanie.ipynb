{
 "cells": [
  {
   "cell_type": "markdown",
   "metadata": {},
   "source": [
    "# <center>Laboratorium 10<br>Metody Numeryczne</center>"
   ]
  },
  {
   "cell_type": "markdown",
   "metadata": {},
   "source": [
    "Instrukcja:  \n",
    "Na zajęciach należy wykonać poniższe zadania, uzupełnić plik main.py, wykonać test na platformie github, a następnie sporządzić sprawozdanie zawierające odpowiedzi z komentarzami."
   ]
  },
  {
   "cell_type": "markdown",
   "metadata": {},
   "source": [
    "***Materiały przygotowujące:***\n"
   ]
  },
  {
   "cell_type": "code",
   "execution_count": 33,
   "metadata": {
    "pycharm": {
     "is_executing": false
    }
   },
   "outputs": [],
   "source": [
    "import main\n",
    "import numpy as np\n",
    "import scipy\n",
    "import matplotlib\n",
    "import matplotlib.pyplot as plt\n",
    "import scipy.linalg\n",
    "from numpy.polynomial import polynomial as P"
   ]
  },
  {
   "cell_type": "markdown",
   "metadata": {},
   "source": [
    "**Cel zajęć:** Celem zajęć jest zapoznanie się z numerycznymi metodami rozwiązywania równań nieliniowych lub inaczej mówiąc metodami znajdowania miejsc zerowych funkcji.\n",
    "W związku z tym podczas zajęć będziemy rozważać następujący problem:\n",
    "\n",
    "Dana jest funkcja $f(x)$, należy wyznaczyć argumenty funkcji $x$, dla których $f(x) = 0$ (funkcja jest równa zero). \n",
    "\n",
    "Argumenty $x^*$, dla których $f(x)=0$ nazywamy *pierwiastkami*.\n",
    "\n",
    "Funkcja i jej pochodne zostały zaimplementowane w *main.py*"
   ]
  },
  {
   "cell_type": "markdown",
   "metadata": {},
   "source": [
    "***Zadanie 1.***  \n",
    "Dany jest wielomian postaci $W(x)=(x-1)(x-2)\\cdot \\ldots \\cdot (x-20)$.\n",
    "\n",
    "1. Zdefinuj funkcję *polly_A*, która obliczy współczynniki wielomianu $a_i$ w postaci ogólnej wielomianu $w(x)=a_nx^n+\\ldots +a_2x^2+a_1x+1$. Skonstruuj wektor tych współczynników. Użyj funkcji [polyfromroots](https://docs.scipy.org/doc/numpy-1.13.0/reference/generated/numpy.polynomial.polynomial.polyfromroots.html#numpy.polynomial.polynomial.polyfromroots) oraz *linspace*.\n",
    "2. Zdefinuj funkcję *roots_20*, która w pętli 20 iteracji będzie:  \n",
    "\n",
    "   i. konstruować wektor współczynników nowego wielomianu w następujący sposób: do każdego wygenerowanego wektora współczynników dodać losową wartość w postaci $(10^{-10})N(0,1)$. Użyj funkcji [random_sample](https://docs.scipy.org/doc/numpy-1.15.1/reference/generated/numpy.random.random_sample.html#numpy.random.random_sample).  \n",
    "  ii. wyliczyać pierwiaski tego wielomianu za pomocą metody [polyroots](https://docs.scipy.org/doc/numpy/reference/generated/numpy.polynomial.polynomial.polyroots.html#numpy.polynomial.polynomial.polyroots).\n",
    "\n",
    "3. Narysuj na wykresie te pierwiastki (w każdej iteracji dorysowywać pierwiastki na tym samym rysunku).\n",
    "4. Określić, który pierwiastek jest najbardziej wrażliwy na zaburzenia.\n",
    "5. Zaproponować sposób oszacowania uwarunkowania każdego z pierwiastków."
   ]
  },
  {
   "cell_type": "code",
   "execution_count": 34,
   "outputs": [
    {
     "name": "stderr",
     "text": [
      "c:\\users\\maciek\\appdata\\local\\programs\\python\\python38\\lib\\site-packages\\numpy\\core\\_asarray.py:136: ComplexWarning: Casting complex values to real discards the imaginary part\n",
      "  return array(a, dtype, copy=False, order=order, subok=True)\n"
     ],
     "output_type": "stream"
    },
    {
     "data": {
      "text/plain": "<Figure size 1080x720 with 1 Axes>",
      "image/png": "[encoded data removed]"
     },
     "metadata": {
      "needs_background": "light"
     },
     "output_type": "display_data"
    }
   ],
   "source": [
    "# Ad. 1 i Ad. 2 zaimplementowane w pliku main\n",
    "\n",
    "# Ad. 3\n",
    "\n",
    "# Pierwiastki wielomianu\n",
    "w = np.array([1, 2, 3, 4, 5, 6, 7, 8, 9, 10, 11, 12, 13, 14, 15, 16, 17, 18, 19, 20])\n",
    "\n",
    "# Wektor wspolczynnikow wielomianu\n",
    "w_polly = main.polly_A(w)\n",
    "\n",
    "# Odwrotnosc dzialania, liczymy pierwiastki wielomianu\n",
    "w_roots, roots = main.roots_20(w_polly)\n",
    "\n",
    "# Wykres\n",
    "plt.figure(figsize=(15, 10))\n",
    "plt.scatter(w, w, label='Pierwotne pierwiastki')\n",
    "plt.scatter(w, roots, label='Odzyskane pierwiastki')\n",
    "plt.xlabel('Pierwiastek')\n",
    "plt.ylabel('Wartosc pierwiastka')\n",
    "plt.legend(loc='best')\n",
    "plt.grid()\n",
    "plt.show()\n",
    "\n",
    "# Ad. 4\n",
    "\n",
    "# Wedlug wykresu, najbardziej podatnymi pierwiastkami na zaburzenia sa pierwiastki od \n",
    "# 13 do 19 wlacznie, ktory jest najbardziej podatny.\n",
    "\n",
    "# Ad. 5\n",
    "\n",
    "# Im wyzszy jest pierwiastek tym bardziej odbiega od swojego rzeczywistego wyniku, zatem\n",
    "# najlepszym sposobem oszacowania powinno byc usrednienie wyniku."
   ],
   "metadata": {
    "collapsed": false,
    "pycharm": {
     "name": "#%%\n",
     "is_executing": false
    }
   }
  },
  {
   "cell_type": "markdown",
   "metadata": {},
   "source": [
    "***Zadanie 2.***  \n",
    "Dany jest wielomian $w_1(x)=(x-1)^8$. Wyznacz numerycznie miejsca zerowego tego wielomianu poprzez wyznaczenie wartości własnych macierzy Frobeniusa. W związku z tym wykonaj następujące czynności:  \n",
    "\n",
    "1. Zaiplementuj funkcję tworzącą [macierz Frobenusa](https://github.com/KAIR-ISZ/public_lectures/blob/master/Metody%20Numeryczne%202019/Lecture%204%20(nonlinear%20equations)/Metody%20numeryczne%202019%20-%20R%C3%B3wnania%20nieliniowe.pdf) *frob_a*, dla zadanego wektora współczynników wielomianu $w(x)$.  \n",
    "2. Wyznacz wartości własne przekształconej macierzy za pomocą funkcji [eigvals](https://docs.scipy.org/doc/numpy/reference/generated/numpy.linalg.eigvals.html#numpy.linalg.eigvals).  \n",
    "3. Dokonaj rozkładu Schura macierzy zdefiniowanej w punkcie 1. użyj funkcji [schure](https://docs.scipy.org/doc/scipy-0.14.0/reference/generated/scipy.linalg.schur.html#scipy.linalg.schur).  \n",
    "4. Porównaj wyniki z funkcją polyroots."
   ]
  },
  {
   "cell_type": "code",
   "execution_count": 35,
   "outputs": [
    {
     "name": "stdout",
     "text": [
      "Macierz: \n",
      "[[  0.   1.   0.   0.   0.   0.   0.   0.   0.]\n",
      " [  0.   0.   1.   0.   0.   0.   0.   0.   0.]\n",
      " [  0.   0.   0.   1.   0.   0.   0.   0.   0.]\n",
      " [  0.   0.   0.   0.   1.   0.   0.   0.   0.]\n",
      " [  0.   0.   0.   0.   0.   1.   0.   0.   0.]\n",
      " [  0.   0.   0.   0.   0.   0.   1.   0.   0.]\n",
      " [  0.   0.   0.   0.   0.   0.   0.   1.   0.]\n",
      " [  0.   0.   0.   0.   0.   0.   0.   0.   1.]\n",
      " [ -1.   8. -28.  56. -70.  56. -28.   8.  -1.]]\n",
      "\n",
      "Wartosci wlasne macierzy: \n",
      "[-4.69153788+0.j          0.2884918 +1.6889081j   0.2884918 -1.6889081j\n",
      "  0.51507253+0.66306355j  0.51507253-0.66306355j  0.52161447+0.30995694j\n",
      "  0.52161447-0.30995694j  0.52059013+0.09353964j  0.52059013-0.09353964j]\n",
      "\n",
      "Rozklad Schura: \n",
      "[[-4.69153788e+00 -9.29392730e-01 -1.26194300e+01 -3.62081520e+00\n",
      "  -1.39810433e+00 -8.96404714e+00  5.75835831e+00  3.14357808e+01\n",
      "  -1.04825206e+02]\n",
      " [ 0.00000000e+00  2.88491804e-01  2.91474068e+00  7.35782993e-01\n",
      "   2.84317230e-01  1.83583546e+00 -1.18162698e+00 -6.42990334e+00\n",
      "   2.14441842e+01]\n",
      " [ 0.00000000e+00 -9.78615557e-01  2.88491804e-01  4.28143175e-02\n",
      "   1.70373135e-02  1.40385974e-01 -9.57679193e-02 -4.72683481e-01\n",
      "   1.58377721e+00]\n",
      " [ 0.00000000e+00  0.00000000e+00  0.00000000e+00  5.15072531e-01\n",
      "  -8.26871955e-01  1.88374704e-01 -2.38299218e-01 -2.48399315e-01\n",
      "   9.87357290e-01]\n",
      " [ 0.00000000e+00  0.00000000e+00  0.00000000e+00  5.31706594e-01\n",
      "   5.15072531e-01  5.91602475e-01 -7.34001420e-01 -8.30693287e-01\n",
      "   3.25000335e+00]\n",
      " [ 0.00000000e+00  0.00000000e+00  0.00000000e+00  0.00000000e+00\n",
      "   0.00000000e+00  5.21614471e-01 -1.16241948e-01 -2.32073648e+00\n",
      "   5.63189585e+00]\n",
      " [ 0.00000000e+00  0.00000000e+00  0.00000000e+00  0.00000000e+00\n",
      "   0.00000000e+00  8.26494289e-01  5.21614471e-01  2.01952440e-01\n",
      "   9.56053713e-02]\n",
      " [ 0.00000000e+00  0.00000000e+00  0.00000000e+00  0.00000000e+00\n",
      "   0.00000000e+00  0.00000000e+00  0.00000000e+00  5.20590135e-01\n",
      "  -4.25365151e+00]\n",
      " [ 0.00000000e+00  0.00000000e+00  0.00000000e+00  0.00000000e+00\n",
      "   0.00000000e+00  0.00000000e+00  0.00000000e+00  2.05697734e-03\n",
      "   5.20590135e-01]]\n",
      "\n",
      "Pierwiastki z funkcji polyroots: \n",
      "[0.98453434+0.j         0.98909686-0.01095323j 0.98909686+0.01095323j\n",
      " 1.00005964-0.01541976j 1.00005964+0.01541976j 1.01090371-0.01083339j\n",
      " 1.01090371+0.01083339j 1.01534524+0.j        ]\n",
      "\n",
      "Pierwotne pierwiastki: \n",
      "[1 1 1 1 1 1 1 1]\n",
      "\n"
     ],
     "output_type": "stream"
    }
   ],
   "source": [
    "# Pierwiastki wielomianu\n",
    "w2 = np.array([1, 1, 1, 1, 1, 1, 1, 1])\n",
    "\n",
    "# Wektor wspolczynnikow wielomianu\n",
    "w2_polly = main.polly_A(w2)\n",
    "\n",
    "\n",
    "m, e, s, r = main.frob_a(w2_polly)\n",
    "\n",
    "print('Macierz: \\n{}\\n'.format(m))\n",
    "print('Wartosci wlasne macierzy: \\n{}\\n'.format(e))\n",
    "print('Rozklad Schura: \\n{}\\n'.format(s[0]))\n",
    "print('Pierwiastki z funkcji polyroots: \\n{}\\n'.format(r))\n",
    "print('Pierwotne pierwiastki: \\n{}\\n'.format(w2))\n",
    "\n",
    "# Wartosci wlasne w porownaniu do wartosci rozkladu rozkladu Schura sa zblizone do pierwiastkow\n",
    "# wielomianu. Pierwiastki wyliczone za pomoca funkcji polyroots sa zblizone do tych pierwotnych."
   ],
   "metadata": {
    "collapsed": false,
    "pycharm": {
     "name": "#%%\n",
     "is_executing": false
    }
   }
  },
  {
   "cell_type": "markdown",
   "metadata": {},
   "source": [
    "***Zadanie 3.***  \n",
    "Dla danego wielomianu $w_2(x) = 243x^7-486x^6+783x^5-990x^4+558x^3-28x^2-72x+16$ wyznacz miejsca zerowe numerycznie, w taki sam sposób jak w zadaniu 2."
   ]
  },
  {
   "cell_type": "code",
   "execution_count": 36,
   "outputs": [
    {
     "name": "stdout",
     "text": [
      "Macierz: \n",
      "[[   0.    1.    0.    0.    0.    0.    0.    0.]\n",
      " [   0.    0.    1.    0.    0.    0.    0.    0.]\n",
      " [   0.    0.    0.    1.    0.    0.    0.    0.]\n",
      " [   0.    0.    0.    0.    1.    0.    0.    0.]\n",
      " [   0.    0.    0.    0.    0.    1.    0.    0.]\n",
      " [   0.    0.    0.    0.    0.    0.    1.    0.]\n",
      " [   0.    0.    0.    0.    0.    0.    0.    1.]\n",
      " [ -16.   72.   28. -558.  990. -783.  486. -243.]]\n",
      "\n",
      "Wartosci wlasne macierzy: \n",
      "[-2.44996812e+02+0.j          6.97095244e-04+1.41143048j\n",
      "  6.97095244e-04-1.41143048j -3.33333779e-01+0.j\n",
      "  6.89904445e-01+0.05736542j  6.89904445e-01-0.05736542j\n",
      "  6.15596992e-01+0.j          3.33345371e-01+0.j        ]\n",
      "\n",
      "Rozklad Schura: \n",
      "[[-2.44996812e+02 -4.25534958e+02 -8.61381193e-02  2.48191771e+01\n",
      "   8.44200993e+01 -1.25790994e+02 -4.58539737e+02 -1.31569715e+03]\n",
      " [ 0.00000000e+00  6.97095244e-04 -9.93974086e-01 -1.03515130e-01\n",
      "   2.61774013e-02  1.92025402e-02 -1.47115851e-02  5.93764832e-03]\n",
      " [ 0.00000000e+00  2.00421321e+00  6.97095244e-04 -8.81576494e-02\n",
      "  -2.98530892e-01  4.45033391e-01  1.62196074e+00  4.65409327e+00]\n",
      " [ 0.00000000e+00  0.00000000e+00  0.00000000e+00 -3.33333779e-01\n",
      "  -7.04418478e-01 -4.54512462e-01  5.32132563e-01  2.82638692e-01]\n",
      " [ 0.00000000e+00  0.00000000e+00  0.00000000e+00  0.00000000e+00\n",
      "   6.89904445e-01 -5.93920209e-01  3.50167741e-01 -4.00943914e-01]\n",
      " [ 0.00000000e+00  0.00000000e+00  0.00000000e+00  0.00000000e+00\n",
      "   5.54079683e-03  6.89904445e-01  1.03359595e+00  8.24999619e-01]\n",
      " [ 0.00000000e+00  0.00000000e+00  0.00000000e+00  0.00000000e+00\n",
      "   0.00000000e+00  0.00000000e+00  6.15596992e-01  2.67310208e+00]\n",
      " [ 0.00000000e+00  0.00000000e+00  0.00000000e+00  0.00000000e+00\n",
      "   0.00000000e+00  0.00000000e+00  0.00000000e+00  3.33345371e-01]]\n",
      "\n",
      "Pierwiastki z funkcji polyroots: \n",
      "[-3.33333333e-01+0.00000000e+00j -1.11022302e-16-1.41421356e+00j\n",
      " -1.11022302e-16+1.41421356e+00j  3.33333333e-01+0.00000000e+00j\n",
      "  6.66664771e-01-3.28271360e-06j  6.66664771e-01+3.28271360e-06j\n",
      "  6.66670457e-01+0.00000000e+00j]\n",
      "\n"
     ],
     "output_type": "stream"
    }
   ],
   "source": [
    "w3 = np.array([16, -72, -28, 558, -990, 783, -486, 243])\n",
    "\n",
    "m3, e3, s3, r3 = main.frob_a(w3)\n",
    "\n",
    "print('Macierz: \\n{}\\n'.format(m3))\n",
    "print('Wartosci wlasne macierzy: \\n{}\\n'.format(e3))\n",
    "print('Rozklad Schura: \\n{}\\n'.format(s3[0]))\n",
    "print('Pierwiastki z funkcji polyroots: \\n{}\\n'.format(r3))\n",
    "\n",
    "# Korzystajac z kalkulatora wolfram alpha, sprawdzilem, ze podane rozwiazanie jest prawidlowe"
   ],
   "metadata": {
    "collapsed": false,
    "pycharm": {
     "name": "#%%\n",
     "is_executing": false
    }
   }
  },
  {
   "cell_type": "markdown",
   "metadata": {},
   "source": [
    "***Zadanie 4.***\n",
    "\n",
    "Dany jest wielomian: \n",
    "$$\n",
    "w_3(x)= x^5 - 156x^4 - 5x^3 + 780x^2 + 4x - 624\n",
    "$$.\n",
    " Wiedząc, że wielomian ten w postaci szeregu Czebyszewa jest następujący \n",
    " $$w_3(x)= (a_0+\\frac{a_2}{2}+ \\frac{3a_4}{4})T_0(x)+(a_1+\\frac{3a_3}{4}+ \\frac{5a_5}{8})T_1(x)+(\\frac{a_2}{2}+ \\frac{a_4}{4})T_2(x)+(\\frac{a_3}{4}+ \\frac{5a_5}{16})T_3(x)+ (\\frac{a_4}{8})T_4 + (\\frac{a_5}{16})T_5(x)$$ \n",
    " znajdź pierwiastki wykorzystując funkcję [chebroots](https://numpy.org/doc/stable/reference/generated/numpy.polynomial.chebyshev.chebroots.html)."
   ]
  },
  {
   "cell_type": "code",
   "execution_count": 37,
   "metadata": {
    "pycharm": {
     "is_executing": false
    }
   },
   "outputs": [
    {
     "name": "stdout",
     "text": [
      "Rozwiazanie wielomianu za pomoca funkcji chebroots: \n",
      "[ -2.1113158   -1.01778383   1.01798385   2.11432153 155.99679425]\n",
      "\n",
      "Rozwiazanie wielomianu za pomoca funkcji polyroots: \n",
      "[ -2.  -1.   1.   2. 156.]\n",
      "\n"
     ],
     "output_type": "stream"
    }
   ],
   "source": [
    "w4 = np.array([-624, 4, 780, -5, -156, 1])\n",
    "\n",
    "# Obliczam wspolczynniki czebyszewa\n",
    "cz0 = w4[0] + w4[2] / 2 + (3 * w4[4]) / 4\n",
    "cz1 = w4[1] + (3 * w4[3]) / 4 + (5 * w4[5]) / 8\n",
    "cz2 = w4[2] / 2 + w4[4] / 4\n",
    "cz3 = w4[3] / 4 + (5 * w4[5]) / 16\n",
    "cz4 = w4[4] / 8\n",
    "cz5 = w4[5] / 16\n",
    "\n",
    "czeb = np.array([cz0, cz1, cz2, cz3, cz4, cz5])\n",
    "\n",
    "print('Rozwiazanie wielomianu za pomoca funkcji chebroots: \\n{}\\n'.format(np.polynomial.chebyshev.chebroots(czeb)))\n",
    "print('Rozwiazanie wielomianu za pomoca funkcji polyroots: \\n{}\\n'.format(P.polyroots(w4)))\n",
    "\n",
    "# Wartosci zaokraglonych wynikow w obu metodach pokrywaja sie.\n",
    "# Wyniki uzyskane za pomoca funkcji chebroots sa dokladniejsze do konkretnego miejsca\n",
    "# po przecinku."
   ]
  }
 ],
 "metadata": {
  "kernelspec": {
   "display_name": "Python 3",
   "language": "python",
   "name": "python3"
  },
  "language_info": {
   "codemirror_mode": {
    "name": "ipython",
    "version": 3
   },
   "file_extension": ".py",
   "mimetype": "text/x-python",
   "name": "python",
   "nbconvert_exporter": "python",
   "pygments_lexer": "ipython3",
   "version": "3.7.7"
  },
  "pycharm": {
   "stem_cell": {
    "cell_type": "raw",
    "source": [],
    "metadata": {
     "collapsed": false
    }
   }
  }
 },
 "nbformat": 4,
 "nbformat_minor": 2
}